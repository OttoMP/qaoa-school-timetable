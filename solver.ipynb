{
 "cells": [
  {
   "cell_type": "code",
   "execution_count": 1,
   "metadata": {},
   "outputs": [],
   "source": [
    "from qubo import XhsttToQubo\n",
    "from xhsttparser import XHSTT\n",
    "from dimod import ExactSolver"
   ]
  },
  {
   "cell_type": "code",
   "execution_count": 2,
   "metadata": {},
   "outputs": [
    {
     "name": "stdout",
     "output_type": "stream",
     "text": [
      "event_name_a='Event0' event_name_b='Event1'\n",
      "event_name_a='Event0' event_name_b='Event2'\n",
      "event_name_a='Event0' event_name_b='Event4'\n",
      "event_name_a='Event1' event_name_b='Event3'\n",
      "event_name_a='Event1' event_name_b='Event5'\n",
      "event_name_a='Event2' event_name_b='Event3'\n",
      "event_name_a='Event2' event_name_b='Event4'\n",
      "event_name_a='Event3' event_name_b='Event5'\n",
      "event_name_a='Event4' event_name_b='Event5'\n"
     ]
    }
   ],
   "source": [
    "xhstt = XHSTT(\"dataset/Toy_Model.xml\")\n",
    "instance = next(iter(xhstt.instances.values()))\n",
    "qubo = XhsttToQubo(instance, OneHotEnc=False)\n",
    "model = qubo.compile()"
   ]
  },
  {
   "cell_type": "code",
   "execution_count": 3,
   "metadata": {},
   "outputs": [
    {
     "data": {
      "text/plain": [
       "['Event0[0]',\n",
       " 'Event0[1]',\n",
       " 'Event1[0]',\n",
       " 'Event1[1]',\n",
       " 'Event2[0]',\n",
       " 'Event2[1]',\n",
       " 'Event3[0]',\n",
       " 'Event3[1]',\n",
       " 'Event4[0]',\n",
       " 'Event4[1]',\n",
       " 'Event5[0]',\n",
       " 'Event5[1]',\n",
       " 'Event0[0] * Event0[1]',\n",
       " 'Event1[0] * Event1[1]',\n",
       " 'Event2[0] * Event2[1]',\n",
       " 'Event3[0] * Event3[1]',\n",
       " 'Event4[0] * Event4[1]',\n",
       " 'Event5[0] * Event5[1]']"
      ]
     },
     "execution_count": 3,
     "metadata": {},
     "output_type": "execute_result"
    }
   ],
   "source": [
    "model.variables"
   ]
  },
  {
   "cell_type": "code",
   "execution_count": 4,
   "metadata": {},
   "outputs": [
    {
     "data": {
      "text/plain": [
       "{'Daily_13.30 - 14.30': 0,\n",
       " 'Daily_14.40 - 15.40': 1,\n",
       " 'Daily_15.50 - 16.50': 2,\n",
       " 'Daily_17.00 - 18.00': 3}"
      ]
     },
     "execution_count": 4,
     "metadata": {},
     "output_type": "execute_result"
    }
   ],
   "source": [
    "qubo.available_times"
   ]
  },
  {
   "cell_type": "code",
   "execution_count": 5,
   "metadata": {},
   "outputs": [],
   "source": [
    "bqm = model.to_bqm()\n",
    "sa = ExactSolver()\n",
    "sampleset = sa.sample(bqm)\n",
    "solutions = sampleset.to_pandas_dataframe().sort_values(\"energy\")"
   ]
  },
  {
   "cell_type": "code",
   "execution_count": 6,
   "metadata": {},
   "outputs": [
    {
     "data": {
      "text/html": [
       "<div>\n",
       "<style scoped>\n",
       "    .dataframe tbody tr th:only-of-type {\n",
       "        vertical-align: middle;\n",
       "    }\n",
       "\n",
       "    .dataframe tbody tr th {\n",
       "        vertical-align: top;\n",
       "    }\n",
       "\n",
       "    .dataframe thead th {\n",
       "        text-align: right;\n",
       "    }\n",
       "</style>\n",
       "<table border=\"1\" class=\"dataframe\">\n",
       "  <thead>\n",
       "    <tr style=\"text-align: right;\">\n",
       "      <th></th>\n",
       "      <th>Event0[0]</th>\n",
       "      <th>Event0[0] * Event0[1]</th>\n",
       "      <th>Event0[1]</th>\n",
       "      <th>Event1[0]</th>\n",
       "      <th>Event1[0] * Event1[1]</th>\n",
       "      <th>Event1[1]</th>\n",
       "      <th>Event2[0]</th>\n",
       "      <th>Event2[0] * Event2[1]</th>\n",
       "      <th>Event2[1]</th>\n",
       "      <th>Event3[0]</th>\n",
       "      <th>Event3[0] * Event3[1]</th>\n",
       "      <th>Event3[1]</th>\n",
       "      <th>Event4[0]</th>\n",
       "      <th>Event4[0] * Event4[1]</th>\n",
       "      <th>Event4[1]</th>\n",
       "      <th>Event5[0]</th>\n",
       "      <th>Event5[0] * Event5[1]</th>\n",
       "      <th>Event5[1]</th>\n",
       "      <th>energy</th>\n",
       "      <th>num_occurrences</th>\n",
       "    </tr>\n",
       "  </thead>\n",
       "  <tbody>\n",
       "    <tr>\n",
       "      <th>28514</th>\n",
       "      <td>1</td>\n",
       "      <td>0</td>\n",
       "      <td>0</td>\n",
       "      <td>1</td>\n",
       "      <td>1</td>\n",
       "      <td>0</td>\n",
       "      <td>1</td>\n",
       "      <td>0</td>\n",
       "      <td>0</td>\n",
       "      <td>1</td>\n",
       "      <td>0</td>\n",
       "      <td>0</td>\n",
       "      <td>1</td>\n",
       "      <td>1</td>\n",
       "      <td>0</td>\n",
       "      <td>1</td>\n",
       "      <td>0</td>\n",
       "      <td>0</td>\n",
       "      <td>6.0</td>\n",
       "      <td>1</td>\n",
       "    </tr>\n",
       "    <tr>\n",
       "      <th>60574</th>\n",
       "      <td>1</td>\n",
       "      <td>0</td>\n",
       "      <td>0</td>\n",
       "      <td>1</td>\n",
       "      <td>0</td>\n",
       "      <td>0</td>\n",
       "      <td>1</td>\n",
       "      <td>1</td>\n",
       "      <td>0</td>\n",
       "      <td>1</td>\n",
       "      <td>0</td>\n",
       "      <td>0</td>\n",
       "      <td>1</td>\n",
       "      <td>0</td>\n",
       "      <td>0</td>\n",
       "      <td>1</td>\n",
       "      <td>1</td>\n",
       "      <td>0</td>\n",
       "      <td>6.0</td>\n",
       "      <td>1</td>\n",
       "    </tr>\n",
       "    <tr>\n",
       "      <th>126818</th>\n",
       "      <td>1</td>\n",
       "      <td>0</td>\n",
       "      <td>0</td>\n",
       "      <td>1</td>\n",
       "      <td>0</td>\n",
       "      <td>0</td>\n",
       "      <td>1</td>\n",
       "      <td>0</td>\n",
       "      <td>0</td>\n",
       "      <td>1</td>\n",
       "      <td>1</td>\n",
       "      <td>0</td>\n",
       "      <td>1</td>\n",
       "      <td>1</td>\n",
       "      <td>0</td>\n",
       "      <td>1</td>\n",
       "      <td>0</td>\n",
       "      <td>0</td>\n",
       "      <td>6.0</td>\n",
       "      <td>1</td>\n",
       "    </tr>\n",
       "    <tr>\n",
       "      <th>200862</th>\n",
       "      <td>1</td>\n",
       "      <td>1</td>\n",
       "      <td>0</td>\n",
       "      <td>1</td>\n",
       "      <td>0</td>\n",
       "      <td>0</td>\n",
       "      <td>1</td>\n",
       "      <td>0</td>\n",
       "      <td>0</td>\n",
       "      <td>1</td>\n",
       "      <td>0</td>\n",
       "      <td>0</td>\n",
       "      <td>1</td>\n",
       "      <td>0</td>\n",
       "      <td>0</td>\n",
       "      <td>1</td>\n",
       "      <td>1</td>\n",
       "      <td>0</td>\n",
       "      <td>6.0</td>\n",
       "      <td>1</td>\n",
       "    </tr>\n",
       "    <tr>\n",
       "      <th>60561</th>\n",
       "      <td>1</td>\n",
       "      <td>0</td>\n",
       "      <td>0</td>\n",
       "      <td>1</td>\n",
       "      <td>0</td>\n",
       "      <td>0</td>\n",
       "      <td>1</td>\n",
       "      <td>1</td>\n",
       "      <td>0</td>\n",
       "      <td>1</td>\n",
       "      <td>0</td>\n",
       "      <td>1</td>\n",
       "      <td>1</td>\n",
       "      <td>0</td>\n",
       "      <td>0</td>\n",
       "      <td>1</td>\n",
       "      <td>1</td>\n",
       "      <td>0</td>\n",
       "      <td>7.0</td>\n",
       "      <td>1</td>\n",
       "    </tr>\n",
       "  </tbody>\n",
       "</table>\n",
       "</div>"
      ],
      "text/plain": [
       "        Event0[0]  Event0[0] * Event0[1]  Event0[1]  Event1[0]  \\\n",
       "28514           1                      0          0          1   \n",
       "60574           1                      0          0          1   \n",
       "126818          1                      0          0          1   \n",
       "200862          1                      1          0          1   \n",
       "60561           1                      0          0          1   \n",
       "\n",
       "        Event1[0] * Event1[1]  Event1[1]  Event2[0]  Event2[0] * Event2[1]  \\\n",
       "28514                       1          0          1                      0   \n",
       "60574                       0          0          1                      1   \n",
       "126818                      0          0          1                      0   \n",
       "200862                      0          0          1                      0   \n",
       "60561                       0          0          1                      1   \n",
       "\n",
       "        Event2[1]  Event3[0]  Event3[0] * Event3[1]  Event3[1]  Event4[0]  \\\n",
       "28514           0          1                      0          0          1   \n",
       "60574           0          1                      0          0          1   \n",
       "126818          0          1                      1          0          1   \n",
       "200862          0          1                      0          0          1   \n",
       "60561           0          1                      0          1          1   \n",
       "\n",
       "        Event4[0] * Event4[1]  Event4[1]  Event5[0]  Event5[0] * Event5[1]  \\\n",
       "28514                       1          0          1                      0   \n",
       "60574                       0          0          1                      1   \n",
       "126818                      1          0          1                      0   \n",
       "200862                      0          0          1                      1   \n",
       "60561                       0          0          1                      1   \n",
       "\n",
       "        Event5[1]  energy  num_occurrences  \n",
       "28514           0     6.0                1  \n",
       "60574           0     6.0                1  \n",
       "126818          0     6.0                1  \n",
       "200862          0     6.0                1  \n",
       "60561           0     7.0                1  "
      ]
     },
     "execution_count": 6,
     "metadata": {},
     "output_type": "execute_result"
    }
   ],
   "source": [
    "solutions.head()"
   ]
  },
  {
   "cell_type": "code",
   "execution_count": 7,
   "metadata": {},
   "outputs": [],
   "source": [
    "solutions.head().to_csv(\"solutions.csv\")"
   ]
  }
 ],
 "metadata": {
  "kernelspec": {
   "display_name": "Python 3 (ipykernel)",
   "language": "python",
   "name": "python3"
  },
  "language_info": {
   "codemirror_mode": {
    "name": "ipython",
    "version": 3
   },
   "file_extension": ".py",
   "mimetype": "text/x-python",
   "name": "python",
   "nbconvert_exporter": "python",
   "pygments_lexer": "ipython3",
   "version": "3.9.7"
  }
 },
 "nbformat": 4,
 "nbformat_minor": 2
}
