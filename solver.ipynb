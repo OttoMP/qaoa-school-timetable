{
 "cells": [
  {
   "cell_type": "code",
   "execution_count": 2,
   "metadata": {},
   "outputs": [],
   "source": [
    "from qubo import XhsttToQubo\n",
    "from xhsttparser import XHSTT\n",
    "from dimod import ExactSolver"
   ]
  },
  {
   "cell_type": "code",
   "execution_count": 3,
   "metadata": {},
   "outputs": [
    {
     "name": "stderr",
     "output_type": "stream",
     "text": [
      "/home/omp/Documents/Parceria-Evandro/qaoa-school-timetable/qubo.py:46: UserWarning: Constraint AvoidClashesConstraint: NoResourceClashes (True) { {'event_groups': [], 'events': [], 'resource_groups': ['gr_Students', 'gr_Teachers']} } not supported\n",
      "  warnings.warn(f\"Constraint {constraint} not supported\")\n"
     ]
    }
   ],
   "source": [
    "xhstt = XHSTT(\"dataset/Toy_Model.xml\")\n",
    "instance = next(iter(xhstt.instances.values()))\n",
    "qubo = XhsttToQubo(instance)\n",
    "model = qubo.compile()"
   ]
  },
  {
   "cell_type": "code",
   "execution_count": 4,
   "metadata": {},
   "outputs": [
    {
     "data": {
      "text/plain": [
       "(WithPenalty(SubH((0.000000 + (3.000000 * Binary('Event5[3]')) + (2.000000 * Binary('Event5[2]')) + (1.000000 * Binary('Event5[1]')) + 0.000000 + (0.000000 * Binary('Event5[0]'))), 'Event5'), (Constraint(((-1.000000 + Binary('Event5[3]') + Binary('Event5[2]') + Binary('Event5[1]') + 0.000000 + Binary('Event5[0]')) * (-1.000000 + Binary('Event5[3]') + Binary('Event5[2]') + Binary('Event5[1]') + 0.000000 + Binary('Event5[0]'))), 'Event5_const') * 1.000000), 'Event5') + WithPenalty(SubH((0.000000 + (3.000000 * Binary('Event4[3]')) + (2.000000 * Binary('Event4[2]')) + (1.000000 * Binary('Event4[1]')) + 0.000000 + (0.000000 * Binary('Event4[0]'))), 'Event4'), (Constraint(((-1.000000 + Binary('Event4[3]') + Binary('Event4[2]') + Binary('Event4[1]') + 0.000000 + Binary('Event4[0]')) * (-1.000000 + Binary('Event4[3]') + Binary('Event4[2]') + Binary('Event4[1]') + 0.000000 + Binary('Event4[0]'))), 'Event4_const') * 1.000000), 'Event4') + WithPenalty(SubH((0.000000 + (3.000000 * Binary('Event3[3]')) + (2.000000 * Binary('Event3[2]')) + (1.000000 * Binary('Event3[1]')) + 0.000000 + (0.000000 * Binary('Event3[0]'))), 'Event3'), (Constraint(((-1.000000 + Binary('Event3[3]') + Binary('Event3[2]') + Binary('Event3[1]') + 0.000000 + Binary('Event3[0]')) * (-1.000000 + Binary('Event3[3]') + Binary('Event3[2]') + Binary('Event3[1]') + 0.000000 + Binary('Event3[0]'))), 'Event3_const') * 1.000000), 'Event3') + WithPenalty(SubH((0.000000 + (3.000000 * Binary('Event2[3]')) + (2.000000 * Binary('Event2[2]')) + (1.000000 * Binary('Event2[1]')) + 0.000000 + (0.000000 * Binary('Event2[0]'))), 'Event2'), (Constraint(((-1.000000 + Binary('Event2[3]') + Binary('Event2[2]') + Binary('Event2[1]') + 0.000000 + Binary('Event2[0]')) * (-1.000000 + Binary('Event2[3]') + Binary('Event2[2]') + Binary('Event2[1]') + 0.000000 + Binary('Event2[0]'))), 'Event2_const') * 1.000000), 'Event2') + WithPenalty(SubH((0.000000 + (3.000000 * Binary('Event1[3]')) + (2.000000 * Binary('Event1[2]')) + (1.000000 * Binary('Event1[1]')) + 0.000000 + (0.000000 * Binary('Event1[0]'))), 'Event1'), (Constraint(((-1.000000 + Binary('Event1[3]') + Binary('Event1[2]') + Binary('Event1[1]') + 0.000000 + Binary('Event1[0]')) * (-1.000000 + Binary('Event1[3]') + Binary('Event1[2]') + Binary('Event1[1]') + 0.000000 + Binary('Event1[0]'))), 'Event1_const') * 1.000000), 'Event1') + 0.000000 + WithPenalty(SubH((0.000000 + (3.000000 * Binary('Event0[3]')) + (2.000000 * Binary('Event0[2]')) + (1.000000 * Binary('Event0[1]')) + 0.000000 + (0.000000 * Binary('Event0[0]'))), 'Event0'), (Constraint(((-1.000000 + Binary('Event0[3]') + Binary('Event0[2]') + Binary('Event0[1]') + 0.000000 + Binary('Event0[0]')) * (-1.000000 + Binary('Event0[3]') + Binary('Event0[2]') + Binary('Event0[1]') + 0.000000 + Binary('Event0[0]'))), 'Event0_const') * 1.000000), 'Event0'))"
      ]
     },
     "execution_count": 4,
     "metadata": {},
     "output_type": "execute_result"
    }
   ],
   "source": [
    "sum(qubo.events_as_variables.values())"
   ]
  },
  {
   "cell_type": "code",
   "execution_count": 5,
   "metadata": {},
   "outputs": [
    {
     "data": {
      "text/plain": [
       "{'Daily_13.30 - 14.30': 0,\n",
       " 'Daily_14.40 - 15.40': 1,\n",
       " 'Daily_15.50 - 16.50': 2,\n",
       " 'Daily_17.00 - 18.00': 3}"
      ]
     },
     "execution_count": 5,
     "metadata": {},
     "output_type": "execute_result"
    }
   ],
   "source": [
    "qubo.available_times"
   ]
  },
  {
   "cell_type": "code",
   "execution_count": 6,
   "metadata": {},
   "outputs": [
    {
     "ename": "KeyboardInterrupt",
     "evalue": "",
     "output_type": "error",
     "traceback": [
      "\u001b[0;31m---------------------------------------------------------------------------\u001b[0m",
      "\u001b[0;31mKeyboardInterrupt\u001b[0m                         Traceback (most recent call last)",
      "\u001b[1;32m/home/omp/Documents/Parceria-Evandro/qaoa-school-timetable/solver.ipynb Cell 5\u001b[0m line \u001b[0;36m3\n\u001b[1;32m      <a href='vscode-notebook-cell:/home/omp/Documents/Parceria-Evandro/qaoa-school-timetable/solver.ipynb#W4sZmlsZQ%3D%3D?line=0'>1</a>\u001b[0m bqm \u001b[39m=\u001b[39m model\u001b[39m.\u001b[39mto_bqm()\n\u001b[1;32m      <a href='vscode-notebook-cell:/home/omp/Documents/Parceria-Evandro/qaoa-school-timetable/solver.ipynb#W4sZmlsZQ%3D%3D?line=1'>2</a>\u001b[0m sa \u001b[39m=\u001b[39m ExactSolver()\n\u001b[0;32m----> <a href='vscode-notebook-cell:/home/omp/Documents/Parceria-Evandro/qaoa-school-timetable/solver.ipynb#W4sZmlsZQ%3D%3D?line=2'>3</a>\u001b[0m sampleset \u001b[39m=\u001b[39m sa\u001b[39m.\u001b[39msample(bqm)\n\u001b[1;32m      <a href='vscode-notebook-cell:/home/omp/Documents/Parceria-Evandro/qaoa-school-timetable/solver.ipynb#W4sZmlsZQ%3D%3D?line=3'>4</a>\u001b[0m sampleset\u001b[39m.\u001b[39mto_pandas_dataframe()\u001b[39m.\u001b[39msort_values(\u001b[39m\"\u001b[39m\u001b[39menergy\u001b[39m\u001b[39m\"\u001b[39m)\n",
      "File \u001b[0;32m~/anaconda3/lib/python3.11/site-packages/dimod/reference/samplers/exact_solver.py:83\u001b[0m, in \u001b[0;36mExactSolver.sample\u001b[0;34m(self, bqm, **kwargs)\u001b[0m\n\u001b[1;32m     80\u001b[0m \u001b[39mif\u001b[39;00m \u001b[39mnot\u001b[39;00m \u001b[39mlen\u001b[39m(bqm\u001b[39m.\u001b[39mvariables):\n\u001b[1;32m     81\u001b[0m     \u001b[39mreturn\u001b[39;00m SampleSet\u001b[39m.\u001b[39mfrom_samples([], bqm\u001b[39m.\u001b[39mvartype, energy\u001b[39m=\u001b[39m[])\n\u001b[0;32m---> 83\u001b[0m samples \u001b[39m=\u001b[39m _graycode(bqm)\n\u001b[1;32m     85\u001b[0m \u001b[39mif\u001b[39;00m bqm\u001b[39m.\u001b[39mvartype \u001b[39mis\u001b[39;00m Vartype\u001b[39m.\u001b[39mSPIN:\n\u001b[1;32m     86\u001b[0m     samples \u001b[39m=\u001b[39m \u001b[39m2\u001b[39m\u001b[39m*\u001b[39msamples \u001b[39m-\u001b[39m \u001b[39m1\u001b[39m\n",
      "File \u001b[0;32m~/anaconda3/lib/python3.11/site-packages/dimod/reference/samplers/exact_solver.py:264\u001b[0m, in \u001b[0;36m_graycode\u001b[0;34m(bqm)\u001b[0m\n\u001b[1;32m    262\u001b[0m     v \u001b[39m=\u001b[39m (i \u001b[39m&\u001b[39m \u001b[39m-\u001b[39mi)\u001b[39m.\u001b[39mbit_length() \u001b[39m-\u001b[39m \u001b[39m1\u001b[39m  \u001b[39m# the least significant set bit of i\u001b[39;00m\n\u001b[1;32m    263\u001b[0m     samples[i, :] \u001b[39m=\u001b[39m samples[i \u001b[39m-\u001b[39m \u001b[39m1\u001b[39m, :]\n\u001b[0;32m--> 264\u001b[0m     samples[i, v] \u001b[39m=\u001b[39m \u001b[39mnot\u001b[39;00m samples[i \u001b[39m-\u001b[39m \u001b[39m1\u001b[39m, v]\n\u001b[1;32m    266\u001b[0m \u001b[39mreturn\u001b[39;00m samples\n",
      "\u001b[0;31mKeyboardInterrupt\u001b[0m: "
     ]
    }
   ],
   "source": [
    "bqm = model.to_bqm()\n",
    "sa = ExactSolver()\n",
    "sampleset = sa.sample(bqm)\n",
    "sampleset.to_pandas_dataframe().sort_values(\"energy\")"
   ]
  }
 ],
 "metadata": {
  "kernelspec": {
   "display_name": "qaoa-school-timetable-mE0PoEAu-py3.11",
   "language": "python",
   "name": "python3"
  },
  "language_info": {
   "codemirror_mode": {
    "name": "ipython",
    "version": 3
   },
   "file_extension": ".py",
   "mimetype": "text/x-python",
   "name": "python",
   "nbconvert_exporter": "python",
   "pygments_lexer": "ipython3",
   "version": "3.11.5"
  }
 },
 "nbformat": 4,
 "nbformat_minor": 2
}
